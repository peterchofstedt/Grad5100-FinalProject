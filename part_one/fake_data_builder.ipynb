{
 "cells": [
  {
   "cell_type": "code",
   "execution_count": 1,
   "id": "7a3e7e19-b466-40aa-8f1c-c2190d5857df",
   "metadata": {
    "tags": []
   },
   "outputs": [],
   "source": [
    "import pandas as pd\n",
    "import numpy as np\n",
    "from numpy.random import randint\n",
    "import matplotlib.pyplot as plt"
   ]
  },
  {
   "cell_type": "markdown",
   "id": "97bb0176-03a9-49b4-84e7-ad1b7e809547",
   "metadata": {},
   "source": [
    "1. Create a dataframe or tibble representing this dataset that has the desired properties."
   ]
  },
  {
   "cell_type": "code",
   "execution_count": 2,
   "id": "afd69268-4d86-434c-afbf-65b993a9df0a",
   "metadata": {
    "tags": []
   },
   "outputs": [],
   "source": [
    "np.random.seed(3)\n",
    "sample = 800\n",
    "groups = ('A', 'B', 'C')\n",
    "ft1mean = 2500\n",
    "ft1std = (2800-2200)/2\n",
    "ft2mean = 400\n",
    "ft2std = 15"
   ]
  },
  {
   "cell_type": "code",
   "execution_count": 3,
   "id": "019dcfeb-4514-4298-a3d4-0b2c19085cf7",
   "metadata": {
    "tags": []
   },
   "outputs": [],
   "source": [
    "def range_sample_generate(sample_size):\n",
    "    id_list = []\n",
    "    while len(id_list) < 800:\n",
    "        id_num = randint(0,1000)\n",
    "        if id_num not in id_list and id_num != 1000:\n",
    "            id_list.append(id_num)\n",
    "    return id_list"
   ]
  },
  {
   "cell_type": "code",
   "execution_count": 4,
   "id": "022cb7ff-be37-4c06-9abf-a0884c6ead06",
   "metadata": {
    "tags": []
   },
   "outputs": [],
   "source": [
    "ids = range_sample_generate(sample)\n",
    "ID = ['ID' + str(i).zfill(3) for i in ids]\n",
    "group = [groups[randint(0,3)] for i in range(0,sample)]\n",
    "ft1 = np.random.normal(ft1mean, ft1std, sample)\n",
    "ft2 = np.random.normal(ft2mean, ft2std, sample)\n",
    "ft3 = []\n",
    "for i in range(0, sample):\n",
    "    if group[i] == \"A\":\n",
    "        ft3.append(((3*ft1[i]) - 5*(ft2[i])))\n",
    "    elif group[i] == \"B\":\n",
    "        ft3.append(2*ft1[i])\n",
    "    elif group[i] == \"C\":\n",
    "        ft3.append(-ft1[i]+ft2[i])\n",
    "ft3 += np.random.normal(0,12,sample)"
   ]
  },
  {
   "cell_type": "code",
   "execution_count": 5,
   "id": "dcbc07fd-0e9d-4e78-90b5-774815cd0854",
   "metadata": {
    "tags": []
   },
   "outputs": [
    {
     "data": {
      "text/plain": [
       "67.25"
      ]
     },
     "execution_count": 5,
     "metadata": {},
     "output_type": "execute_result"
    }
   ],
   "source": [
    "count_ft1 = 0\n",
    "for ft in ft1:\n",
    "    if ft >= 2200 and ft <= 2800:\n",
    "        count_ft1+=1\n",
    "(count_ft1/800) *100"
   ]
  },
  {
   "cell_type": "code",
   "execution_count": 6,
   "id": "cbfa0a2c-2619-4f16-8ec0-26d68ccb4d0f",
   "metadata": {
    "tags": []
   },
   "outputs": [
    {
     "name": "stdout",
     "output_type": "stream",
     "text": [
      "A 32.625\n",
      "B 33.0\n",
      "C 34.375\n"
     ]
    }
   ],
   "source": [
    "counta=0\n",
    "countb=0\n",
    "countc=0\n",
    "for i in range(0, sample):\n",
    "    if group[i] == \"A\":\n",
    "        counta +=1\n",
    "    elif group[i] == \"B\":\n",
    "        countb+=1\n",
    "    elif group[i] == \"C\":\n",
    "        countc+=1\n",
    "print('A '+str(counta/800*100))\n",
    "print('B '+str(countb/800*100))\n",
    "print('C '+str(countc/800*100))"
   ]
  },
  {
   "cell_type": "code",
   "execution_count": 7,
   "id": "ae496ed2-c4b6-43f9-87bb-43b766bf43b8",
   "metadata": {
    "tags": []
   },
   "outputs": [
    {
     "data": {
      "text/html": [
       "<div>\n",
       "<style scoped>\n",
       "    .dataframe tbody tr th:only-of-type {\n",
       "        vertical-align: middle;\n",
       "    }\n",
       "\n",
       "    .dataframe tbody tr th {\n",
       "        vertical-align: top;\n",
       "    }\n",
       "\n",
       "    .dataframe thead th {\n",
       "        text-align: right;\n",
       "    }\n",
       "</style>\n",
       "<table border=\"1\" class=\"dataframe\">\n",
       "  <thead>\n",
       "    <tr style=\"text-align: right;\">\n",
       "      <th></th>\n",
       "      <th>ID</th>\n",
       "      <th>Group</th>\n",
       "      <th>Feature_1</th>\n",
       "      <th>Feature_2</th>\n",
       "      <th>Feature_3</th>\n",
       "    </tr>\n",
       "  </thead>\n",
       "  <tbody>\n",
       "    <tr>\n",
       "      <th>0</th>\n",
       "      <td>ID874</td>\n",
       "      <td>B</td>\n",
       "      <td>2842.051019</td>\n",
       "      <td>395.099402</td>\n",
       "      <td>5691.008396</td>\n",
       "    </tr>\n",
       "    <tr>\n",
       "      <th>1</th>\n",
       "      <td>ID664</td>\n",
       "      <td>A</td>\n",
       "      <td>2592.014435</td>\n",
       "      <td>369.485921</td>\n",
       "      <td>5908.215371</td>\n",
       "    </tr>\n",
       "    <tr>\n",
       "      <th>2</th>\n",
       "      <td>ID249</td>\n",
       "      <td>B</td>\n",
       "      <td>2424.416233</td>\n",
       "      <td>409.898867</td>\n",
       "      <td>4851.926391</td>\n",
       "    </tr>\n",
       "    <tr>\n",
       "      <th>3</th>\n",
       "      <td>ID643</td>\n",
       "      <td>A</td>\n",
       "      <td>2788.455408</td>\n",
       "      <td>388.058773</td>\n",
       "      <td>6424.413850</td>\n",
       "    </tr>\n",
       "    <tr>\n",
       "      <th>4</th>\n",
       "      <td>ID952</td>\n",
       "      <td>C</td>\n",
       "      <td>2845.855665</td>\n",
       "      <td>412.876601</td>\n",
       "      <td>-2420.765169</td>\n",
       "    </tr>\n",
       "    <tr>\n",
       "      <th>...</th>\n",
       "      <td>...</td>\n",
       "      <td>...</td>\n",
       "      <td>...</td>\n",
       "      <td>...</td>\n",
       "      <td>...</td>\n",
       "    </tr>\n",
       "    <tr>\n",
       "      <th>795</th>\n",
       "      <td>ID612</td>\n",
       "      <td>C</td>\n",
       "      <td>2486.510453</td>\n",
       "      <td>409.910478</td>\n",
       "      <td>-2069.080061</td>\n",
       "    </tr>\n",
       "    <tr>\n",
       "      <th>796</th>\n",
       "      <td>ID359</td>\n",
       "      <td>A</td>\n",
       "      <td>2071.841512</td>\n",
       "      <td>407.240056</td>\n",
       "      <td>4173.799794</td>\n",
       "    </tr>\n",
       "    <tr>\n",
       "      <th>797</th>\n",
       "      <td>ID314</td>\n",
       "      <td>A</td>\n",
       "      <td>2556.715022</td>\n",
       "      <td>432.023723</td>\n",
       "      <td>5526.004607</td>\n",
       "    </tr>\n",
       "    <tr>\n",
       "      <th>798</th>\n",
       "      <td>ID143</td>\n",
       "      <td>C</td>\n",
       "      <td>2567.379541</td>\n",
       "      <td>406.368320</td>\n",
       "      <td>-2135.348140</td>\n",
       "    </tr>\n",
       "    <tr>\n",
       "      <th>799</th>\n",
       "      <td>ID132</td>\n",
       "      <td>C</td>\n",
       "      <td>2510.714218</td>\n",
       "      <td>413.740475</td>\n",
       "      <td>-2102.343949</td>\n",
       "    </tr>\n",
       "  </tbody>\n",
       "</table>\n",
       "<p>800 rows × 5 columns</p>\n",
       "</div>"
      ],
      "text/plain": [
       "        ID Group    Feature_1   Feature_2    Feature_3\n",
       "0    ID874     B  2842.051019  395.099402  5691.008396\n",
       "1    ID664     A  2592.014435  369.485921  5908.215371\n",
       "2    ID249     B  2424.416233  409.898867  4851.926391\n",
       "3    ID643     A  2788.455408  388.058773  6424.413850\n",
       "4    ID952     C  2845.855665  412.876601 -2420.765169\n",
       "..     ...   ...          ...         ...          ...\n",
       "795  ID612     C  2486.510453  409.910478 -2069.080061\n",
       "796  ID359     A  2071.841512  407.240056  4173.799794\n",
       "797  ID314     A  2556.715022  432.023723  5526.004607\n",
       "798  ID143     C  2567.379541  406.368320 -2135.348140\n",
       "799  ID132     C  2510.714218  413.740475 -2102.343949\n",
       "\n",
       "[800 rows x 5 columns]"
      ]
     },
     "execution_count": 7,
     "metadata": {},
     "output_type": "execute_result"
    }
   ],
   "source": [
    "df = pd.DataFrame({'ID': ID, 'Group': group, 'Feature_1': ft1, 'Feature_2': ft2, 'Feature_3': ft3})\n",
    "df"
   ]
  },
  {
   "cell_type": "markdown",
   "id": "a5b2af32-0db0-43a1-b841-7e98aaaf64ba",
   "metadata": {},
   "source": [
    "2.Answer the following questions:\n",
    "\n",
    "A. Based on the theoretical distribution of Feature_1, how many samples do you expect\n",
    "to find where the value of the feature is greater than 3000?"
   ]
  },
  {
   "cell_type": "markdown",
   "id": "aeafd1cf-adc3-483c-9ee1-143dcf432196",
   "metadata": {},
   "source": [
    "Given that the mean for Feature_1 is 2500 and the range for the first standard deviation is 2200-2800, this means that 1 standard deviation for Feature_1 is 300. This means that the range for 2 standard deviations is 1900-3100. So the upper limit for this standard deviation is 2801-3100. 2/3rd of that lies below the 3000 and since 2 standard deviations should incorporate 95% of the data, this means that 2/3 of the remaining upper 16.66% should be below 3000, so roughly 5.55% of the sample should be above 3000, roughly 44 samples."
   ]
  },
  {
   "cell_type": "markdown",
   "id": "51539197-11e4-4034-a6b2-73cb0a59b86d",
   "metadata": {},
   "source": [
    "B. How many samples did you actually find where Feature_1 is greater than 3000?"
   ]
  },
  {
   "cell_type": "code",
   "execution_count": 8,
   "id": "6e63b125-c715-42cc-ab67-afc97cfd0596",
   "metadata": {
    "tags": []
   },
   "outputs": [
    {
     "data": {
      "text/plain": [
       "45"
      ]
     },
     "execution_count": 8,
     "metadata": {},
     "output_type": "execute_result"
    }
   ],
   "source": [
    "over_3000 = df[ft1 > 3000]\n",
    "over_3000['Feature_1'].count()"
   ]
  },
  {
   "cell_type": "markdown",
   "id": "649cd346-6e6b-4a95-a191-5fbbfbfdac8b",
   "metadata": {},
   "source": [
    "C. Group the dataset by the Group field and compute the mean and standard deviation of\n",
    "Feature_3 within each group."
   ]
  },
  {
   "cell_type": "code",
   "execution_count": 9,
   "id": "f687f22f-43ed-423c-a46c-f489d6ce582d",
   "metadata": {
    "tags": []
   },
   "outputs": [
    {
     "data": {
      "text/plain": [
       "Group\n",
       "A    5533.252878\n",
       "B    4997.731564\n",
       "C   -2087.380175\n",
       "Name: Feature_3, dtype: float64"
      ]
     },
     "execution_count": 9,
     "metadata": {},
     "output_type": "execute_result"
    }
   ],
   "source": [
    "df.groupby('Group')['Feature_3'].agg('mean')"
   ]
  },
  {
   "cell_type": "code",
   "execution_count": 10,
   "id": "48b616ba-a5ff-44f5-9200-bb9130d88f59",
   "metadata": {
    "tags": []
   },
   "outputs": [
    {
     "data": {
      "text/plain": [
       "Group\n",
       "A    961.562126\n",
       "B    638.020081\n",
       "C    278.668973\n",
       "Name: Feature_3, dtype: float64"
      ]
     },
     "execution_count": 10,
     "metadata": {},
     "output_type": "execute_result"
    }
   ],
   "source": [
    "df.groupby('Group')['Feature_3'].agg('std')"
   ]
  },
  {
   "cell_type": "markdown",
   "id": "d5ab140b-3519-4420-8062-27d67325d9bf",
   "metadata": {},
   "source": [
    "3. Make a scatterplot of Feature_3 vs Feature_1."
   ]
  },
  {
   "cell_type": "code",
   "execution_count": 11,
   "id": "f2a40bea-3689-4ed7-a0b0-465c06b40700",
   "metadata": {
    "tags": []
   },
   "outputs": [
    {
     "data": {
      "text/plain": [
       "<matplotlib.collections.PathCollection at 0x1ed3d97b790>"
      ]
     },
     "execution_count": 11,
     "metadata": {},
     "output_type": "execute_result"
    },
    {
     "data": {
      "image/png": "[encoded data removed]",
      "text/plain": [
       "<Figure size 640x480 with 1 Axes>"
      ]
     },
     "metadata": {},
     "output_type": "display_data"
    }
   ],
   "source": [
    "fig = plt.figure()\n",
    "axes = fig.add_subplot(1, 1, 1)\n",
    "axes.grid(True)\n",
    "axes.set_xlabel(\"Feature_1\")\n",
    "axes.set_ylabel(\"Feature_3\")\n",
    "axes.set_title(\"Feature_3 vs Feature_1 \")\n",
    "axes.scatter(df['Feature_1'], df['Feature_3'])"
   ]
  },
  {
   "cell_type": "markdown",
   "id": "e6266dbb-faf2-4437-9f8b-7e1589b9e7a1",
   "metadata": {},
   "source": [
    "4. Write your constructed dataframe/tibble to a csv file called fake_data.csv."
   ]
  },
  {
   "cell_type": "code",
   "execution_count": 12,
   "id": "4b3d14c3-9ee5-4c1a-8fd9-da0fe2a4a009",
   "metadata": {
    "tags": []
   },
   "outputs": [],
   "source": [
    "df.to_csv('fake_data.csv', index=False)"
   ]
  },
  {
   "cell_type": "code",
   "execution_count": null,
   "id": "5975de47-0d2c-47f0-bb1e-72019fc4a91c",
   "metadata": {},
   "outputs": [],
   "source": []
  }
 ],
 "metadata": {
  "kernelspec": {
   "display_name": "Python 3 (ipykernel)",
   "language": "python",
   "name": "python3"
  },
  "language_info": {
   "codemirror_mode": {
    "name": "ipython",
    "version": 3
   },
   "file_extension": ".py",
   "mimetype": "text/x-python",
   "name": "python",
   "nbconvert_exporter": "python",
   "pygments_lexer": "ipython3",
   "version": "3.11.4"
  }
 },
 "nbformat": 4,
 "nbformat_minor": 5
}
