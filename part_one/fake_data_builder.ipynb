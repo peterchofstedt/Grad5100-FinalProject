{
 "cells": [
  {
   "cell_type": "code",
   "execution_count": 1,
   "id": "7a3e7e19-b466-40aa-8f1c-c2190d5857df",
   "metadata": {
    "tags": []
   },
   "outputs": [],
   "source": [
    "import pandas as pd\n",
    "import numpy as np\n",
    "from numpy.random import randint\n",
    "import matplotlib.pyplot as plt"
   ]
  },
  {
   "cell_type": "markdown",
   "id": "97bb0176-03a9-49b4-84e7-ad1b7e809547",
   "metadata": {},
   "source": [
    "1. Create a dataframe or tibble representing this dataset that has the desired properties."
   ]
  },
  {
   "cell_type": "code",
   "execution_count": 48,
   "id": "022cb7ff-be37-4c06-9abf-a0884c6ead06",
   "metadata": {
    "tags": []
   },
   "outputs": [],
   "source": [
    "np.random.seed(8)\n",
    "sample = 800\n",
    "groups = ('A', 'B', 'C')\n",
    "ft1mean = 2500\n",
    "ft1std = (2800-2200)/2\n",
    "ft2mean = 400\n",
    "ft2std = 15\n",
    "\n",
    "ID = ['ID' + str(i).zfill(3) for i in np.array(list(range(1, sample+1)))]\n",
    "group = [groups[randint(0,3)] for i in range(0,sample)]\n",
    "ft1 = np.random.normal(ft1mean, ft1std, sample)\n",
    "ft2 = np.random.normal(ft2mean, ft2std, sample)\n",
    "ft3 = []\n",
    "for i in range(0, sample):\n",
    "    if group[i] == \"A\":\n",
    "        ft3.append(((3*ft1[i]) - 5*(ft2[i])))\n",
    "    elif group[i] == \"B\":\n",
    "        ft3.append(2*ft1[i])\n",
    "    elif group[i] == \"C\":\n",
    "        ft3.append(-ft1[i]+ft2[i])"
   ]
  },
  {
   "cell_type": "code",
   "execution_count": 49,
   "id": "dcbc07fd-0e9d-4e78-90b5-774815cd0854",
   "metadata": {
    "tags": []
   },
   "outputs": [
    {
     "data": {
      "text/plain": [
       "66.375"
      ]
     },
     "execution_count": 49,
     "metadata": {},
     "output_type": "execute_result"
    }
   ],
   "source": [
    "count_ft1 = 0\n",
    "for ft in ft1:\n",
    "    if ft >= 2200 and ft <= 2800:\n",
    "        count_ft1+=1\n",
    "(count_ft1/800) *100"
   ]
  },
  {
   "cell_type": "code",
   "execution_count": 50,
   "id": "cbfa0a2c-2619-4f16-8ec0-26d68ccb4d0f",
   "metadata": {
    "tags": []
   },
   "outputs": [
    {
     "name": "stdout",
     "output_type": "stream",
     "text": [
      "A 30.625000000000004\n",
      "B 34.625\n",
      "C 34.75\n"
     ]
    }
   ],
   "source": [
    "counta=0\n",
    "countb=0\n",
    "countc=0\n",
    "for i in range(0, sample):\n",
    "    if group[i] == \"A\":\n",
    "        counta +=1\n",
    "    elif group[i] == \"B\":\n",
    "        countb+=1\n",
    "    elif group[i] == \"C\":\n",
    "        countc+=1\n",
    "print('A '+str(counta/800*100))\n",
    "print('B '+str(countb/800*100))\n",
    "print('C '+str(countc/800*100))"
   ]
  },
  {
   "cell_type": "code",
   "execution_count": 51,
   "id": "ae496ed2-c4b6-43f9-87bb-43b766bf43b8",
   "metadata": {
    "tags": []
   },
   "outputs": [
    {
     "data": {
      "text/html": [
       "<div>\n",
       "<style scoped>\n",
       "    .dataframe tbody tr th:only-of-type {\n",
       "        vertical-align: middle;\n",
       "    }\n",
       "\n",
       "    .dataframe tbody tr th {\n",
       "        vertical-align: top;\n",
       "    }\n",
       "\n",
       "    .dataframe thead th {\n",
       "        text-align: right;\n",
       "    }\n",
       "</style>\n",
       "<table border=\"1\" class=\"dataframe\">\n",
       "  <thead>\n",
       "    <tr style=\"text-align: right;\">\n",
       "      <th></th>\n",
       "      <th>ID</th>\n",
       "      <th>Group</th>\n",
       "      <th>Feature_1</th>\n",
       "      <th>Feature_2</th>\n",
       "      <th>Feature_3</th>\n",
       "    </tr>\n",
       "  </thead>\n",
       "  <tbody>\n",
       "    <tr>\n",
       "      <th>0</th>\n",
       "      <td>ID001</td>\n",
       "      <td>A</td>\n",
       "      <td>2266.106248</td>\n",
       "      <td>390.986256</td>\n",
       "      <td>4843.387465</td>\n",
       "    </tr>\n",
       "    <tr>\n",
       "      <th>1</th>\n",
       "      <td>ID002</td>\n",
       "      <td>B</td>\n",
       "      <td>2378.066421</td>\n",
       "      <td>386.348734</td>\n",
       "      <td>4756.132843</td>\n",
       "    </tr>\n",
       "    <tr>\n",
       "      <th>2</th>\n",
       "      <td>ID003</td>\n",
       "      <td>B</td>\n",
       "      <td>2511.031876</td>\n",
       "      <td>408.974601</td>\n",
       "      <td>5022.063751</td>\n",
       "    </tr>\n",
       "    <tr>\n",
       "      <th>3</th>\n",
       "      <td>ID004</td>\n",
       "      <td>B</td>\n",
       "      <td>2154.975214</td>\n",
       "      <td>395.448038</td>\n",
       "      <td>4309.950428</td>\n",
       "    </tr>\n",
       "    <tr>\n",
       "      <th>4</th>\n",
       "      <td>ID005</td>\n",
       "      <td>C</td>\n",
       "      <td>2137.061431</td>\n",
       "      <td>377.283417</td>\n",
       "      <td>-1759.778014</td>\n",
       "    </tr>\n",
       "    <tr>\n",
       "      <th>...</th>\n",
       "      <td>...</td>\n",
       "      <td>...</td>\n",
       "      <td>...</td>\n",
       "      <td>...</td>\n",
       "      <td>...</td>\n",
       "    </tr>\n",
       "    <tr>\n",
       "      <th>795</th>\n",
       "      <td>ID796</td>\n",
       "      <td>B</td>\n",
       "      <td>2287.404497</td>\n",
       "      <td>374.503833</td>\n",
       "      <td>4574.808995</td>\n",
       "    </tr>\n",
       "    <tr>\n",
       "      <th>796</th>\n",
       "      <td>ID797</td>\n",
       "      <td>A</td>\n",
       "      <td>2719.902242</td>\n",
       "      <td>407.617805</td>\n",
       "      <td>6121.617701</td>\n",
       "    </tr>\n",
       "    <tr>\n",
       "      <th>797</th>\n",
       "      <td>ID798</td>\n",
       "      <td>C</td>\n",
       "      <td>2525.806946</td>\n",
       "      <td>401.443197</td>\n",
       "      <td>-2124.363749</td>\n",
       "    </tr>\n",
       "    <tr>\n",
       "      <th>798</th>\n",
       "      <td>ID799</td>\n",
       "      <td>C</td>\n",
       "      <td>2994.209879</td>\n",
       "      <td>407.818434</td>\n",
       "      <td>-2586.391446</td>\n",
       "    </tr>\n",
       "    <tr>\n",
       "      <th>799</th>\n",
       "      <td>ID800</td>\n",
       "      <td>A</td>\n",
       "      <td>2525.804271</td>\n",
       "      <td>384.735638</td>\n",
       "      <td>5653.734624</td>\n",
       "    </tr>\n",
       "  </tbody>\n",
       "</table>\n",
       "<p>800 rows × 5 columns</p>\n",
       "</div>"
      ],
      "text/plain": [
       "        ID Group    Feature_1   Feature_2    Feature_3\n",
       "0    ID001     A  2266.106248  390.986256  4843.387465\n",
       "1    ID002     B  2378.066421  386.348734  4756.132843\n",
       "2    ID003     B  2511.031876  408.974601  5022.063751\n",
       "3    ID004     B  2154.975214  395.448038  4309.950428\n",
       "4    ID005     C  2137.061431  377.283417 -1759.778014\n",
       "..     ...   ...          ...         ...          ...\n",
       "795  ID796     B  2287.404497  374.503833  4574.808995\n",
       "796  ID797     A  2719.902242  407.617805  6121.617701\n",
       "797  ID798     C  2525.806946  401.443197 -2124.363749\n",
       "798  ID799     C  2994.209879  407.818434 -2586.391446\n",
       "799  ID800     A  2525.804271  384.735638  5653.734624\n",
       "\n",
       "[800 rows x 5 columns]"
      ]
     },
     "execution_count": 51,
     "metadata": {},
     "output_type": "execute_result"
    }
   ],
   "source": [
    "df = pd.DataFrame({'ID': ID, 'Group': group, 'Feature_1': ft1, 'Feature_2': ft2, 'Feature_3': ft3})\n",
    "df"
   ]
  },
  {
   "cell_type": "markdown",
   "id": "a5b2af32-0db0-43a1-b841-7e98aaaf64ba",
   "metadata": {},
   "source": [
    "2.Answer the following questions:\n",
    "\n",
    "A. Based on the theoretical distribution of Feature_1, how many samples do you expect\n",
    "to find where the value of the feature is greater than 3000?"
   ]
  },
  {
   "cell_type": "markdown",
   "id": "aeafd1cf-adc3-483c-9ee1-143dcf432196",
   "metadata": {},
   "source": [
    "Given that the mean for Feature_1 is 2500 and the range for the first standard deviation is 2200-2800, this means that 1 standard deviation for Feature_1 is 300. This means that the range for 2 standard deviations is 1900-3100. So the upper limit for this standard deviation is 2801-3100. 2/3rd of that lies below the 3000 and since 2 standard deviations should incorporate 95% of the data, this means that 2/3 of the remaining upper 16.66% should be below 3000, so roughly 5.55% of the sample should be above 3000, roughly 44 samples."
   ]
  },
  {
   "cell_type": "markdown",
   "id": "51539197-11e4-4034-a6b2-73cb0a59b86d",
   "metadata": {},
   "source": [
    "B. How many samples did you actually find where Feature_1 is greater than 3000?"
   ]
  },
  {
   "cell_type": "code",
   "execution_count": 52,
   "id": "6e63b125-c715-42cc-ab67-afc97cfd0596",
   "metadata": {
    "tags": []
   },
   "outputs": [
    {
     "data": {
      "text/plain": [
       "42"
      ]
     },
     "execution_count": 52,
     "metadata": {},
     "output_type": "execute_result"
    }
   ],
   "source": [
    "over_3000 = df[ft1 > 3000]\n",
    "over_3000['Feature_1'].count()"
   ]
  },
  {
   "cell_type": "markdown",
   "id": "649cd346-6e6b-4a95-a191-5fbbfbfdac8b",
   "metadata": {},
   "source": [
    "C. Group the dataset by the Group field and compute the mean and standard deviation of\n",
    "Feature_3 within each group."
   ]
  },
  {
   "cell_type": "code",
   "execution_count": 53,
   "id": "f687f22f-43ed-423c-a46c-f489d6ce582d",
   "metadata": {
    "tags": []
   },
   "outputs": [
    {
     "data": {
      "text/plain": [
       "Group\n",
       "A    5611.475981\n",
       "B    5048.194786\n",
       "C   -2092.170798\n",
       "Name: Feature_3, dtype: float64"
      ]
     },
     "execution_count": 53,
     "metadata": {},
     "output_type": "execute_result"
    }
   ],
   "source": [
    "df.groupby('Group')['Feature_3'].agg('mean')"
   ]
  },
  {
   "cell_type": "code",
   "execution_count": 54,
   "id": "48b616ba-a5ff-44f5-9200-bb9130d88f59",
   "metadata": {
    "tags": []
   },
   "outputs": [
    {
     "data": {
      "text/plain": [
       "Group\n",
       "A    948.702650\n",
       "B    606.110538\n",
       "C    297.588184\n",
       "Name: Feature_3, dtype: float64"
      ]
     },
     "execution_count": 54,
     "metadata": {},
     "output_type": "execute_result"
    }
   ],
   "source": [
    "df.groupby('Group')['Feature_3'].agg('std')"
   ]
  },
  {
   "cell_type": "markdown",
   "id": "d5ab140b-3519-4420-8062-27d67325d9bf",
   "metadata": {},
   "source": [
    "3. Make a scatterplot of Feature_3 vs Feature_1."
   ]
  },
  {
   "cell_type": "code",
   "execution_count": 55,
   "id": "f2a40bea-3689-4ed7-a0b0-465c06b40700",
   "metadata": {
    "tags": []
   },
   "outputs": [
    {
     "data": {
      "text/plain": [
       "<matplotlib.collections.PathCollection at 0x1cb16417550>"
      ]
     },
     "execution_count": 55,
     "metadata": {},
     "output_type": "execute_result"
    },
    {
     "data": {
      "image/png": "[encoded data removed]",
      "text/plain": [
       "<Figure size 640x480 with 1 Axes>"
      ]
     },
     "metadata": {},
     "output_type": "display_data"
    }
   ],
   "source": [
    "fig = plt.figure()\n",
    "axes = fig.add_subplot(1, 1, 1)\n",
    "axes.grid(True)\n",
    "axes.set_xlabel(\"Feature_1\")\n",
    "axes.set_ylabel(\"Feature_3\")\n",
    "axes.set_title(\"Feature_3 vs Feature_1 \")\n",
    "axes.scatter(df['Feature_1'], df['Feature_3'])"
   ]
  },
  {
   "cell_type": "markdown",
   "id": "e6266dbb-faf2-4437-9f8b-7e1589b9e7a1",
   "metadata": {},
   "source": [
    "4. Write your constructed dataframe/tibble to a csv file called fake_data.csv."
   ]
  },
  {
   "cell_type": "code",
   "execution_count": 57,
   "id": "4b3d14c3-9ee5-4c1a-8fd9-da0fe2a4a009",
   "metadata": {
    "tags": []
   },
   "outputs": [],
   "source": [
    "df.to_csv('fake_data.csv', index=False)"
   ]
  },
  {
   "cell_type": "code",
   "execution_count": null,
   "id": "5975de47-0d2c-47f0-bb1e-72019fc4a91c",
   "metadata": {},
   "outputs": [],
   "source": []
  }
 ],
 "metadata": {
  "kernelspec": {
   "display_name": "Python 3 (ipykernel)",
   "language": "python",
   "name": "python3"
  },
  "language_info": {
   "codemirror_mode": {
    "name": "ipython",
    "version": 3
   },
   "file_extension": ".py",
   "mimetype": "text/x-python",
   "name": "python",
   "nbconvert_exporter": "python",
   "pygments_lexer": "ipython3",
   "version": "3.11.4"
  }
 },
 "nbformat": 4,
 "nbformat_minor": 5
}
