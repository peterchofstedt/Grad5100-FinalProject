{
 "cells": [
  {
   "cell_type": "code",
   "execution_count": 2,
   "id": "623b5be8-c61b-4311-bb22-3e6a111e04b0",
   "metadata": {
    "tags": []
   },
   "outputs": [],
   "source": [
    "import sqlalchemy as sqla\n",
    "import pymysql\n",
    "import pandas as pd\n",
    "import os\n",
    "username = \"user\"\n",
    "password = \"grad5100user\"\n",
    "awsresource = \"database-1.cwvjklnp4wu3.us-east-1.rds.amazonaws.com\"\n",
    "port = 3306"
   ]
  },
  {
   "cell_type": "code",
   "execution_count": 3,
   "id": "d78a8367-a1d9-432c-b775-572b3703ecae",
   "metadata": {
    "tags": []
   },
   "outputs": [],
   "source": [
    "dbname = \"topChef\"\n",
    "dburi = f\"mysql+pymysql://{username}:{password}@{awsresource}:{port}/{dbname}\"\n",
    "engine = sqla.create_engine(dburi)\n",
    "\n",
    "def run_sql(sql, engine):\n",
    "    \"send sql to database given by engine and return the result\"\n",
    "    with engine.connect() as conn:\n",
    "        result = conn.execute(sqla.text(sql))\n",
    "    return result.all()\n",
    "\n",
    "\n",
    "def df_select(sql, engine):\n",
    "    \"send sql to database given by engine and return the result as a pandas dataframe\"\n",
    "    with engine.connect() as conn:\n",
    "        result = pd.read_sql(sqla.text(sql), con=conn)\n",
    "    print(f\"Retrieved {result.shape[0]} records\")\n",
    "    return result"
   ]
  },
  {
   "cell_type": "code",
   "execution_count": 4,
   "id": "102d7885-028a-47a6-9334-3141b7563c91",
   "metadata": {
    "tags": []
   },
   "outputs": [
    {
     "name": "stdout",
     "output_type": "stream",
     "text": [
      "('challengedescriptions',)\n",
      "('challengewins',)\n",
      "('chefdetails',)\n",
      "('episodeinfo',)\n",
      "('judges',)\n",
      "('rewards',)\n"
     ]
    }
   ],
   "source": [
    "tables = run_sql(\"show tables;\", engine)\n",
    "for x in tables:\n",
    "    print(x)"
   ]
  },
  {
   "cell_type": "markdown",
   "id": "665596a1-0471-4bf8-be88-f0d6b38fb258",
   "metadata": {
    "tags": []
   },
   "source": [
    "1. There are two types of top Chef programs; the ‘Masters’ programs and the regular series.\n",
    "The database contains information on both. We are not interested in the ‘Masters’. There\n",
    "is also a season called “Canada 6” which is part of the Masters series. Create versions of\n",
    "the chefdetails and judges tables that exclude any records coming from seasons that\n",
    "include the word Masters or Canada."
   ]
  },
  {
   "cell_type": "code",
   "execution_count": 5,
   "id": "d0ba2d07-db11-4800-8dcc-781725f5f84d",
   "metadata": {
    "tags": []
   },
   "outputs": [
    {
     "name": "stdout",
     "output_type": "stream",
     "text": [
      "Retrieved 322 records\n"
     ]
    },
    {
     "data": {
      "text/html": [
       "<div>\n",
       "<style scoped>\n",
       "    .dataframe tbody tr th:only-of-type {\n",
       "        vertical-align: middle;\n",
       "    }\n",
       "\n",
       "    .dataframe tbody tr th {\n",
       "        vertical-align: top;\n",
       "    }\n",
       "\n",
       "    .dataframe thead th {\n",
       "        text-align: right;\n",
       "    }\n",
       "</style>\n",
       "<table border=\"1\" class=\"dataframe\">\n",
       "  <thead>\n",
       "    <tr style=\"text-align: right;\">\n",
       "      <th></th>\n",
       "      <th>num</th>\n",
       "      <th>name</th>\n",
       "      <th>chef</th>\n",
       "      <th>hometown</th>\n",
       "      <th>city</th>\n",
       "      <th>state</th>\n",
       "      <th>age</th>\n",
       "      <th>season</th>\n",
       "      <th>seasonNumber</th>\n",
       "      <th>series</th>\n",
       "      <th>placement</th>\n",
       "      <th>personOfColor</th>\n",
       "      <th>occupation</th>\n",
       "      <th>gender</th>\n",
       "    </tr>\n",
       "  </thead>\n",
       "  <tbody>\n",
       "    <tr>\n",
       "      <th>83</th>\n",
       "      <td>94</td>\n",
       "      <td>Lisa Fernandes</td>\n",
       "      <td>Lisa F.</td>\n",
       "      <td>Toronto, Ontario</td>\n",
       "      <td>New York</td>\n",
       "      <td>New York</td>\n",
       "      <td>27.0</td>\n",
       "      <td>Chicago</td>\n",
       "      <td>4</td>\n",
       "      <td>US</td>\n",
       "      <td>2</td>\n",
       "      <td>None</td>\n",
       "      <td>None</td>\n",
       "      <td>Female</td>\n",
       "    </tr>\n",
       "    <tr>\n",
       "      <th>32</th>\n",
       "      <td>32</td>\n",
       "      <td>Joe Sasto</td>\n",
       "      <td>Joe S.</td>\n",
       "      <td>None</td>\n",
       "      <td>Los Angeles</td>\n",
       "      <td>California</td>\n",
       "      <td>NaN</td>\n",
       "      <td>All-Stars L.A.</td>\n",
       "      <td>17</td>\n",
       "      <td>US</td>\n",
       "      <td>15</td>\n",
       "      <td>None</td>\n",
       "      <td>None</td>\n",
       "      <td>Male</td>\n",
       "    </tr>\n",
       "    <tr>\n",
       "      <th>88</th>\n",
       "      <td>99</td>\n",
       "      <td>Andrew D'Ambrosi</td>\n",
       "      <td>Andrew D.</td>\n",
       "      <td>Fort Lauderdale, Florida</td>\n",
       "      <td>New York</td>\n",
       "      <td>New York</td>\n",
       "      <td>30.0</td>\n",
       "      <td>Chicago</td>\n",
       "      <td>4</td>\n",
       "      <td>US</td>\n",
       "      <td>7</td>\n",
       "      <td>None</td>\n",
       "      <td>None</td>\n",
       "      <td>Female</td>\n",
       "    </tr>\n",
       "    <tr>\n",
       "      <th>298</th>\n",
       "      <td>333</td>\n",
       "      <td>Chris Crary</td>\n",
       "      <td>Chris C.</td>\n",
       "      <td>None</td>\n",
       "      <td>Los Angeles</td>\n",
       "      <td>California</td>\n",
       "      <td>29.0</td>\n",
       "      <td>Texas</td>\n",
       "      <td>9</td>\n",
       "      <td>US</td>\n",
       "      <td>9</td>\n",
       "      <td>None</td>\n",
       "      <td>Chef de Cuisine</td>\n",
       "      <td>Male</td>\n",
       "    </tr>\n",
       "    <tr>\n",
       "      <th>304</th>\n",
       "      <td>339</td>\n",
       "      <td>Richie Farina</td>\n",
       "      <td>Richie F.</td>\n",
       "      <td>None</td>\n",
       "      <td>Chicago</td>\n",
       "      <td>Illinois</td>\n",
       "      <td>28.0</td>\n",
       "      <td>Texas</td>\n",
       "      <td>9</td>\n",
       "      <td>US</td>\n",
       "      <td>15</td>\n",
       "      <td>None</td>\n",
       "      <td>Sous Chef</td>\n",
       "      <td>Male</td>\n",
       "    </tr>\n",
       "  </tbody>\n",
       "</table>\n",
       "</div>"
      ],
      "text/plain": [
       "     num              name       chef                  hometown         city  \\\n",
       "83    94    Lisa Fernandes    Lisa F.          Toronto, Ontario     New York   \n",
       "32    32         Joe Sasto     Joe S.                      None  Los Angeles   \n",
       "88    99  Andrew D'Ambrosi  Andrew D.  Fort Lauderdale, Florida     New York   \n",
       "298  333       Chris Crary   Chris C.                      None  Los Angeles   \n",
       "304  339     Richie Farina  Richie F.                      None      Chicago   \n",
       "\n",
       "          state   age          season  seasonNumber series  placement  \\\n",
       "83     New York  27.0         Chicago             4     US          2   \n",
       "32   California   NaN  All-Stars L.A.            17     US         15   \n",
       "88     New York  30.0         Chicago             4     US          7   \n",
       "298  California  29.0           Texas             9     US          9   \n",
       "304    Illinois  28.0           Texas             9     US         15   \n",
       "\n",
       "    personOfColor       occupation  gender  \n",
       "83           None             None  Female  \n",
       "32           None             None    Male  \n",
       "88           None             None  Female  \n",
       "298          None  Chef de Cuisine    Male  \n",
       "304          None        Sous Chef    Male  "
      ]
     },
     "execution_count": 5,
     "metadata": {},
     "output_type": "execute_result"
    }
   ],
   "source": [
    "chef_no_master_canada = df_select(\n",
    "    \"SELECT * FROM chefdetails where season not like '%Canada%' and season not like '%Master%';\",\n",
    "    engine)\n",
    "chef_no_master_canada.sample(5)"
   ]
  },
  {
   "cell_type": "code",
   "execution_count": 6,
   "id": "11e1d6d2-e287-4001-b676-dbc1a4e6a59c",
   "metadata": {
    "tags": []
   },
   "outputs": [
    {
     "name": "stdout",
     "output_type": "stream",
     "text": [
      "Retrieved 633 records\n"
     ]
    },
    {
     "data": {
      "text/html": [
       "<div>\n",
       "<style scoped>\n",
       "    .dataframe tbody tr th:only-of-type {\n",
       "        vertical-align: middle;\n",
       "    }\n",
       "\n",
       "    .dataframe tbody tr th {\n",
       "        vertical-align: top;\n",
       "    }\n",
       "\n",
       "    .dataframe thead th {\n",
       "        text-align: right;\n",
       "    }\n",
       "</style>\n",
       "<table border=\"1\" class=\"dataframe\">\n",
       "  <thead>\n",
       "    <tr style=\"text-align: right;\">\n",
       "      <th></th>\n",
       "      <th>num</th>\n",
       "      <th>season</th>\n",
       "      <th>seasonNumber</th>\n",
       "      <th>series</th>\n",
       "      <th>episode</th>\n",
       "      <th>challengeType</th>\n",
       "      <th>outcomeType</th>\n",
       "      <th>guestJudge</th>\n",
       "      <th>competedOnTC</th>\n",
       "      <th>otherShows</th>\n",
       "    </tr>\n",
       "  </thead>\n",
       "  <tbody>\n",
       "    <tr>\n",
       "      <th>626</th>\n",
       "      <td>748</td>\n",
       "      <td>World All Stars</td>\n",
       "      <td>20</td>\n",
       "      <td>US</td>\n",
       "      <td>11</td>\n",
       "      <td>Quickfire</td>\n",
       "      <td>Individual</td>\n",
       "      <td>Andrew Wong</td>\n",
       "      <td>None</td>\n",
       "      <td>None</td>\n",
       "    </tr>\n",
       "    <tr>\n",
       "      <th>598</th>\n",
       "      <td>696</td>\n",
       "      <td>Texas</td>\n",
       "      <td>9</td>\n",
       "      <td>US</td>\n",
       "      <td>15</td>\n",
       "      <td>Elimination</td>\n",
       "      <td>Individual</td>\n",
       "      <td>Cammi Granato</td>\n",
       "      <td>None</td>\n",
       "      <td>None</td>\n",
       "    </tr>\n",
       "    <tr>\n",
       "      <th>336</th>\n",
       "      <td>349</td>\n",
       "      <td>Kentucky</td>\n",
       "      <td>16</td>\n",
       "      <td>US</td>\n",
       "      <td>14</td>\n",
       "      <td>Elimination</td>\n",
       "      <td>Individual</td>\n",
       "      <td>Florita Morais Alves</td>\n",
       "      <td>None</td>\n",
       "      <td>None</td>\n",
       "    </tr>\n",
       "    <tr>\n",
       "      <th>267</th>\n",
       "      <td>280</td>\n",
       "      <td>Houston</td>\n",
       "      <td>19</td>\n",
       "      <td>US</td>\n",
       "      <td>4</td>\n",
       "      <td>Quickfire</td>\n",
       "      <td>Individual</td>\n",
       "      <td>Chris Williams</td>\n",
       "      <td>None</td>\n",
       "      <td>None</td>\n",
       "    </tr>\n",
       "    <tr>\n",
       "      <th>144</th>\n",
       "      <td>157</td>\n",
       "      <td>Charleston</td>\n",
       "      <td>14</td>\n",
       "      <td>US</td>\n",
       "      <td>9</td>\n",
       "      <td>Elimination</td>\n",
       "      <td>Individual</td>\n",
       "      <td>Michael Voltaggio</td>\n",
       "      <td>Yes</td>\n",
       "      <td>Tournament of Champions, Battle of the Brothers</td>\n",
       "    </tr>\n",
       "  </tbody>\n",
       "</table>\n",
       "</div>"
      ],
      "text/plain": [
       "     num           season  seasonNumber series  episode challengeType  \\\n",
       "626  748  World All Stars            20     US       11     Quickfire   \n",
       "598  696            Texas             9     US       15   Elimination   \n",
       "336  349         Kentucky            16     US       14   Elimination   \n",
       "267  280          Houston            19     US        4     Quickfire   \n",
       "144  157       Charleston            14     US        9   Elimination   \n",
       "\n",
       "    outcomeType            guestJudge competedOnTC  \\\n",
       "626  Individual           Andrew Wong         None   \n",
       "598  Individual         Cammi Granato         None   \n",
       "336  Individual  Florita Morais Alves         None   \n",
       "267  Individual        Chris Williams         None   \n",
       "144  Individual     Michael Voltaggio          Yes   \n",
       "\n",
       "                                          otherShows  \n",
       "626                                             None  \n",
       "598                                             None  \n",
       "336                                             None  \n",
       "267                                             None  \n",
       "144  Tournament of Champions, Battle of the Brothers  "
      ]
     },
     "execution_count": 6,
     "metadata": {},
     "output_type": "execute_result"
    }
   ],
   "source": [
    "judges_no_master_canada = df_select(\n",
    "    \"SELECT * FROM judges where season not like '%Canada%' and season not like '%Master%';\",\n",
    "    engine)\n",
    "judges_no_master_canada.sample(5)"
   ]
  },
  {
   "cell_type": "markdown",
   "id": "bcab2ad4-c598-424c-86e0-04ed78eaf45c",
   "metadata": {
    "tags": []
   },
   "source": [
    "2. Further trim your chefdetails and judges tables by including only the columns of\n",
    "interest from the table descriptions above."
   ]
  },
  {
   "cell_type": "code",
   "execution_count": 7,
   "id": "97c9c63f-9331-4890-a60f-bce6854aba9b",
   "metadata": {
    "tags": []
   },
   "outputs": [
    {
     "name": "stdout",
     "output_type": "stream",
     "text": [
      "Retrieved 322 records\n"
     ]
    },
    {
     "data": {
      "text/html": [
       "<div>\n",
       "<style scoped>\n",
       "    .dataframe tbody tr th:only-of-type {\n",
       "        vertical-align: middle;\n",
       "    }\n",
       "\n",
       "    .dataframe tbody tr th {\n",
       "        vertical-align: top;\n",
       "    }\n",
       "\n",
       "    .dataframe thead th {\n",
       "        text-align: right;\n",
       "    }\n",
       "</style>\n",
       "<table border=\"1\" class=\"dataframe\">\n",
       "  <thead>\n",
       "    <tr style=\"text-align: right;\">\n",
       "      <th></th>\n",
       "      <th>season</th>\n",
       "      <th>seasonNumber</th>\n",
       "      <th>name</th>\n",
       "      <th>placement</th>\n",
       "      <th>gender</th>\n",
       "    </tr>\n",
       "  </thead>\n",
       "  <tbody>\n",
       "    <tr>\n",
       "      <th>266</th>\n",
       "      <td>San Francisco</td>\n",
       "      <td>1</td>\n",
       "      <td>Andrea Beaman</td>\n",
       "      <td>7</td>\n",
       "      <td>Female</td>\n",
       "    </tr>\n",
       "    <tr>\n",
       "      <th>110</th>\n",
       "      <td>D.C.</td>\n",
       "      <td>7</td>\n",
       "      <td>Arnold Myint</td>\n",
       "      <td>13</td>\n",
       "      <td>Male</td>\n",
       "    </tr>\n",
       "    <tr>\n",
       "      <th>222</th>\n",
       "      <td>New Orleans</td>\n",
       "      <td>11</td>\n",
       "      <td>Michael Sichel</td>\n",
       "      <td>14</td>\n",
       "      <td>Male</td>\n",
       "    </tr>\n",
       "    <tr>\n",
       "      <th>31</th>\n",
       "      <td>All-Stars L.A.</td>\n",
       "      <td>17</td>\n",
       "      <td>Angelo Sosa</td>\n",
       "      <td>14</td>\n",
       "      <td>Male</td>\n",
       "    </tr>\n",
       "    <tr>\n",
       "      <th>162</th>\n",
       "      <td>Las Vegas</td>\n",
       "      <td>6</td>\n",
       "      <td>Michael Voltaggio</td>\n",
       "      <td>1</td>\n",
       "      <td>Male</td>\n",
       "    </tr>\n",
       "  </tbody>\n",
       "</table>\n",
       "</div>"
      ],
      "text/plain": [
       "             season  seasonNumber               name  placement  gender\n",
       "266   San Francisco             1      Andrea Beaman          7  Female\n",
       "110            D.C.             7       Arnold Myint         13    Male\n",
       "222     New Orleans            11     Michael Sichel         14    Male\n",
       "31   All-Stars L.A.            17        Angelo Sosa         14    Male\n",
       "162       Las Vegas             6  Michael Voltaggio          1    Male"
      ]
     },
     "execution_count": 7,
     "metadata": {},
     "output_type": "execute_result"
    }
   ],
   "source": [
    "filtered_chef_trimmed = df_select(\n",
    "    \"SELECT season, seasonNumber, name, placement, gender FROM chefdetails where season not like '%Canada%' and season not like '%Master%';\",\n",
    "    engine)\n",
    "filtered_chef_trimmed.sample(5)"
   ]
  },
  {
   "cell_type": "code",
   "execution_count": 8,
   "id": "f5121dcf-6e54-4793-b13d-a288e72e5e93",
   "metadata": {
    "tags": []
   },
   "outputs": [
    {
     "name": "stdout",
     "output_type": "stream",
     "text": [
      "Retrieved 633 records\n"
     ]
    },
    {
     "data": {
      "text/html": [
       "<div>\n",
       "<style scoped>\n",
       "    .dataframe tbody tr th:only-of-type {\n",
       "        vertical-align: middle;\n",
       "    }\n",
       "\n",
       "    .dataframe tbody tr th {\n",
       "        vertical-align: top;\n",
       "    }\n",
       "\n",
       "    .dataframe thead th {\n",
       "        text-align: right;\n",
       "    }\n",
       "</style>\n",
       "<table border=\"1\" class=\"dataframe\">\n",
       "  <thead>\n",
       "    <tr style=\"text-align: right;\">\n",
       "      <th></th>\n",
       "      <th>season</th>\n",
       "      <th>seasonNumber</th>\n",
       "      <th>episode</th>\n",
       "      <th>challengeType</th>\n",
       "      <th>guestJudge</th>\n",
       "      <th>competedOnTC</th>\n",
       "    </tr>\n",
       "  </thead>\n",
       "  <tbody>\n",
       "    <tr>\n",
       "      <th>333</th>\n",
       "      <td>Kentucky</td>\n",
       "      <td>16</td>\n",
       "      <td>13</td>\n",
       "      <td>Elimination</td>\n",
       "      <td>Jowett Yu</td>\n",
       "      <td>None</td>\n",
       "    </tr>\n",
       "    <tr>\n",
       "      <th>559</th>\n",
       "      <td>Seattle</td>\n",
       "      <td>10</td>\n",
       "      <td>7</td>\n",
       "      <td>Quickfire</td>\n",
       "      <td>Stephanie Izard</td>\n",
       "      <td>Yes</td>\n",
       "    </tr>\n",
       "    <tr>\n",
       "      <th>224</th>\n",
       "      <td>D.C.</td>\n",
       "      <td>7</td>\n",
       "      <td>12</td>\n",
       "      <td>Elimination</td>\n",
       "      <td>Eric Ripert</td>\n",
       "      <td>None</td>\n",
       "    </tr>\n",
       "    <tr>\n",
       "      <th>30</th>\n",
       "      <td>All Stars: New York</td>\n",
       "      <td>8</td>\n",
       "      <td>14</td>\n",
       "      <td>Quickfire</td>\n",
       "      <td>Lorena Garcia</td>\n",
       "      <td>None</td>\n",
       "    </tr>\n",
       "    <tr>\n",
       "      <th>419</th>\n",
       "      <td>Miami</td>\n",
       "      <td>3</td>\n",
       "      <td>3</td>\n",
       "      <td>Elimination</td>\n",
       "      <td>Norman van Aken</td>\n",
       "      <td>None</td>\n",
       "    </tr>\n",
       "  </tbody>\n",
       "</table>\n",
       "</div>"
      ],
      "text/plain": [
       "                  season  seasonNumber  episode challengeType  \\\n",
       "333             Kentucky            16       13   Elimination   \n",
       "559              Seattle            10        7     Quickfire   \n",
       "224                 D.C.             7       12   Elimination   \n",
       "30   All Stars: New York             8       14     Quickfire   \n",
       "419                Miami             3        3   Elimination   \n",
       "\n",
       "          guestJudge competedOnTC  \n",
       "333        Jowett Yu         None  \n",
       "559  Stephanie Izard          Yes  \n",
       "224      Eric Ripert         None  \n",
       "30     Lorena Garcia         None  \n",
       "419  Norman van Aken         None  "
      ]
     },
     "execution_count": 8,
     "metadata": {},
     "output_type": "execute_result"
    }
   ],
   "source": [
    "filtered_judges_trimmed = df_select(\n",
    "    \"SELECT season, seasonNumber, episode, challengeType, guestJudge, competedOnTC FROM judges where season not like '%Canada%' and season not like '%Master%';\",\n",
    "    engine)\n",
    "filtered_judges_trimmed.sample(5)"
   ]
  },
  {
   "cell_type": "markdown",
   "id": "4d9e3437-137a-4908-adba-6cadee03d7e4",
   "metadata": {},
   "source": [
    "3. Your tables should have information from 20 remaining different seasons, numbered\n",
    "from 1 to 20. Make a table that has two columns, one called season and one called\n",
    "seasonNumber showing the number associated with each season. (For example, San\n",
    "Francisco is season 1.)\n"
   ]
  },
  {
   "cell_type": "code",
   "execution_count": 10,
   "id": "92ae179a-6394-48df-9093-95f5331e444a",
   "metadata": {
    "tags": []
   },
   "outputs": [
    {
     "data": {
      "text/html": [
       "<div>\n",
       "<style scoped>\n",
       "    .dataframe tbody tr th:only-of-type {\n",
       "        vertical-align: middle;\n",
       "    }\n",
       "\n",
       "    .dataframe tbody tr th {\n",
       "        vertical-align: top;\n",
       "    }\n",
       "\n",
       "    .dataframe thead th {\n",
       "        text-align: right;\n",
       "    }\n",
       "</style>\n",
       "<table border=\"1\" class=\"dataframe\">\n",
       "  <thead>\n",
       "    <tr style=\"text-align: right;\">\n",
       "      <th></th>\n",
       "      <th>season</th>\n",
       "      <th>seasonNumber</th>\n",
       "    </tr>\n",
       "  </thead>\n",
       "  <tbody>\n",
       "    <tr>\n",
       "      <th>0</th>\n",
       "      <td>San Francisco</td>\n",
       "      <td>1</td>\n",
       "    </tr>\n",
       "    <tr>\n",
       "      <th>1</th>\n",
       "      <td>Los Angeles</td>\n",
       "      <td>2</td>\n",
       "    </tr>\n",
       "    <tr>\n",
       "      <th>2</th>\n",
       "      <td>Miami</td>\n",
       "      <td>3</td>\n",
       "    </tr>\n",
       "    <tr>\n",
       "      <th>3</th>\n",
       "      <td>Chicago</td>\n",
       "      <td>4</td>\n",
       "    </tr>\n",
       "    <tr>\n",
       "      <th>4</th>\n",
       "      <td>New York</td>\n",
       "      <td>5</td>\n",
       "    </tr>\n",
       "    <tr>\n",
       "      <th>5</th>\n",
       "      <td>Las Vegas</td>\n",
       "      <td>6</td>\n",
       "    </tr>\n",
       "    <tr>\n",
       "      <th>6</th>\n",
       "      <td>D.C.</td>\n",
       "      <td>7</td>\n",
       "    </tr>\n",
       "    <tr>\n",
       "      <th>7</th>\n",
       "      <td>All Stars: New York</td>\n",
       "      <td>8</td>\n",
       "    </tr>\n",
       "    <tr>\n",
       "      <th>8</th>\n",
       "      <td>Texas</td>\n",
       "      <td>9</td>\n",
       "    </tr>\n",
       "    <tr>\n",
       "      <th>9</th>\n",
       "      <td>Seattle</td>\n",
       "      <td>10</td>\n",
       "    </tr>\n",
       "    <tr>\n",
       "      <th>10</th>\n",
       "      <td>New Orleans</td>\n",
       "      <td>11</td>\n",
       "    </tr>\n",
       "    <tr>\n",
       "      <th>11</th>\n",
       "      <td>Boston</td>\n",
       "      <td>12</td>\n",
       "    </tr>\n",
       "    <tr>\n",
       "      <th>12</th>\n",
       "      <td>California</td>\n",
       "      <td>13</td>\n",
       "    </tr>\n",
       "    <tr>\n",
       "      <th>13</th>\n",
       "      <td>Charleston</td>\n",
       "      <td>14</td>\n",
       "    </tr>\n",
       "    <tr>\n",
       "      <th>14</th>\n",
       "      <td>Colorado</td>\n",
       "      <td>15</td>\n",
       "    </tr>\n",
       "    <tr>\n",
       "      <th>15</th>\n",
       "      <td>Kentucky</td>\n",
       "      <td>16</td>\n",
       "    </tr>\n",
       "    <tr>\n",
       "      <th>16</th>\n",
       "      <td>All-Stars L.A.</td>\n",
       "      <td>17</td>\n",
       "    </tr>\n",
       "    <tr>\n",
       "      <th>17</th>\n",
       "      <td>Portland</td>\n",
       "      <td>18</td>\n",
       "    </tr>\n",
       "    <tr>\n",
       "      <th>18</th>\n",
       "      <td>Houston</td>\n",
       "      <td>19</td>\n",
       "    </tr>\n",
       "    <tr>\n",
       "      <th>19</th>\n",
       "      <td>World All Stars</td>\n",
       "      <td>20</td>\n",
       "    </tr>\n",
       "  </tbody>\n",
       "</table>\n",
       "</div>"
      ],
      "text/plain": [
       "                 season  seasonNumber\n",
       "0         San Francisco             1\n",
       "1           Los Angeles             2\n",
       "2                 Miami             3\n",
       "3               Chicago             4\n",
       "4              New York             5\n",
       "5             Las Vegas             6\n",
       "6                  D.C.             7\n",
       "7   All Stars: New York             8\n",
       "8                 Texas             9\n",
       "9               Seattle            10\n",
       "10          New Orleans            11\n",
       "11               Boston            12\n",
       "12           California            13\n",
       "13           Charleston            14\n",
       "14             Colorado            15\n",
       "15             Kentucky            16\n",
       "16       All-Stars L.A.            17\n",
       "17             Portland            18\n",
       "18              Houston            19\n",
       "19      World All Stars            20"
      ]
     },
     "execution_count": 10,
     "metadata": {},
     "output_type": "execute_result"
    }
   ],
   "source": [
    "with engine.connect() as conn:\n",
    "    season_and_number = pd.read_sql(\n",
    "        sqla.text(\"\"\"SELECT distinct judges.season, judges.seasonNumber\n",
    "        FROM judges join chefdetails on judges.season = chefdetails.season \n",
    "        where judges.season not like '%Master%' and judges.season not like '%Canada%' order by seasonNumber;\"\"\"), conn\n",
    "    )\n",
    "season_and_number"
   ]
  },
  {
   "cell_type": "markdown",
   "id": "96f4df61-c200-4659-b08d-eacfe00088fe",
   "metadata": {},
   "source": [
    "4. Answer the following questions using your tables so far.\n",
    "a. Among all chef contestants, how many are male and how many are female?"
   ]
  },
  {
   "cell_type": "code",
   "execution_count": 9,
   "id": "ef574689-1cdc-43ec-9109-973bc8950e5f",
   "metadata": {
    "tags": []
   },
   "outputs": [
    {
     "data": {
      "text/plain": [
       "Male      170\n",
       "Female    152\n",
       "Name: gender, dtype: int64"
      ]
     },
     "execution_count": 9,
     "metadata": {},
     "output_type": "execute_result"
    }
   ],
   "source": [
    "filtered_chef_trimmed['gender'].value_counts()"
   ]
  },
  {
   "cell_type": "markdown",
   "id": "d8d10c09-88ba-400b-8e03-aacd1dacadee",
   "metadata": {},
   "source": [
    "b. Among all winners (placement==1) how many are male and how many are female?"
   ]
  },
  {
   "cell_type": "code",
   "execution_count": 10,
   "id": "ab006083-08ac-430e-814f-974c0cf20d0c",
   "metadata": {
    "tags": []
   },
   "outputs": [
    {
     "data": {
      "text/plain": [
       "Male      14\n",
       "Female     6\n",
       "Name: gender, dtype: int64"
      ]
     },
     "execution_count": 10,
     "metadata": {},
     "output_type": "execute_result"
    }
   ],
   "source": [
    "fct_win = filtered_chef_trimmed[filtered_chef_trimmed['placement'] == 1]\n",
    "fct_win['gender'].value_counts()"
   ]
  },
  {
   "cell_type": "markdown",
   "id": "b96481e2-6b73-4596-9d30-b6d2ac1b1408",
   "metadata": {},
   "source": [
    "There are 6 female winners and 14 male winners."
   ]
  },
  {
   "cell_type": "markdown",
   "id": "ff947bc4-63d3-430e-9cd6-905fc53941f8",
   "metadata": {},
   "source": [
    "c. Among all sets of top 3 finalists (placement=1,2,3) how many are male and how many\n",
    "are female?"
   ]
  },
  {
   "cell_type": "code",
   "execution_count": 39,
   "id": "88d20b9c-eef0-47a3-89c2-d69bfb7cca4a",
   "metadata": {
    "tags": []
   },
   "outputs": [
    {
     "data": {
      "text/plain": [
       "'25 female'"
      ]
     },
     "execution_count": 39,
     "metadata": {},
     "output_type": "execute_result"
    }
   ],
   "source": [
    "fct_female = filtered_chef_trimmed[filtered_chef_trimmed['gender'] == 'Female']\n",
    "one = fct_female[fct_female['placement'] == 1].count()\n",
    "two = fct_female[fct_female['placement'] == 2].count()\n",
    "three = fct_female[fct_female['placement'] == 3].count()\n",
    "female_total = one+two+three\n",
    "str(female_total['placement']) +' female'"
   ]
  },
  {
   "cell_type": "code",
   "execution_count": 42,
   "id": "7aef4832-d5f9-445c-b9d2-ae1f57e124ad",
   "metadata": {
    "tags": []
   },
   "outputs": [
    {
     "data": {
      "text/plain": [
       "'36 male'"
      ]
     },
     "execution_count": 42,
     "metadata": {},
     "output_type": "execute_result"
    }
   ],
   "source": [
    "fct_male = filtered_chef_trimmed[filtered_chef_trimmed['gender'] == 'Male']\n",
    "one_male = fct_male[fct_male['placement'] == 1].count()\n",
    "two_male = fct_male[fct_male['placement'] == 2].count()\n",
    "three_male = fct_male[fct_male['placement'] == 3].count()\n",
    "male_total = one_male+two_male+three_male\n",
    "str(male_total['placement']) + ' male'"
   ]
  },
  {
   "cell_type": "markdown",
   "id": "d75c1632-fb2c-4b57-a162-ad1fdefb4a05",
   "metadata": {},
   "source": [
    "There are 25 female values in the top 3 and 36 males in the top 3."
   ]
  },
  {
   "cell_type": "markdown",
   "id": "e98abe26-0ff0-42bb-892c-8f26e869ec97",
   "metadata": {},
   "source": [
    "d. Compare the number of times a female was placed in the top 3 with the number of times\n",
    "a female won. Does this number seem unusual? That is, are women who place in the\n",
    "top 3 less likely than expected to ultimately win the competition? Why or why not?"
   ]
  },
  {
   "cell_type": "code",
   "execution_count": 49,
   "id": "269ab43c-a7e7-471b-a808-895c4297c23b",
   "metadata": {
    "tags": []
   },
   "outputs": [
    {
     "data": {
      "text/plain": [
       "40.98360655737705"
      ]
     },
     "execution_count": 49,
     "metadata": {},
     "output_type": "execute_result"
    }
   ],
   "source": [
    "female_total['placement'] / (female_total['placement']+male_total['placement']) *100"
   ]
  },
  {
   "cell_type": "code",
   "execution_count": 50,
   "id": "2008fcb4-fdd0-4d75-bd82-6d166c283b6d",
   "metadata": {
    "tags": []
   },
   "outputs": [
    {
     "data": {
      "text/plain": [
       "30.0"
      ]
     },
     "execution_count": 50,
     "metadata": {},
     "output_type": "execute_result"
    }
   ],
   "source": [
    "6 / (6+14) * 100"
   ]
  },
  {
   "cell_type": "code",
   "execution_count": 51,
   "id": "c81947f8-350c-43e7-93e6-6050ece80600",
   "metadata": {
    "tags": []
   },
   "outputs": [
    {
     "data": {
      "text/plain": [
       "24.0"
      ]
     },
     "execution_count": 51,
     "metadata": {},
     "output_type": "execute_result"
    }
   ],
   "source": [
    "6/female_total['placement'] *100"
   ]
  },
  {
   "cell_type": "code",
   "execution_count": 52,
   "id": "6396041a-0202-4dd9-9f3b-213173835d0d",
   "metadata": {
    "tags": []
   },
   "outputs": [
    {
     "data": {
      "text/plain": [
       "38.88888888888889"
      ]
     },
     "execution_count": 52,
     "metadata": {},
     "output_type": "execute_result"
    }
   ],
   "source": [
    "14/male_total['placement'] * 100"
   ]
  },
  {
   "cell_type": "markdown",
   "id": "197ff947-135b-4424-b347-f0d27fe509e1",
   "metadata": {},
   "source": [
    "Out of everyone in the top 3, women make up 40.98% of the top 3. Out of those, only 6 or 24% of have won TopChef. Since there are 6 women out of the 20 winners, this means that women have won 30% of the time. When we compare those number to the amount of time mean have won with the amount of men in the top 3, this puts women at as less likely to win competition. The amount of men in the top 3 is 60% this is actually a rather large comparison, however when you look at the proportion of women and men in the top three who have won, they come out to roughly the same proportion of ~40%. So while the otherall number of women in the top 3 is low, the number of female winners in proportion to the number of females contestants in the top 3."
   ]
  },
  {
   "cell_type": "markdown",
   "id": "bb24bdc0-daeb-48d5-a146-d045bcbd4958",
   "metadata": {
    "tags": []
   },
   "source": [
    "5. Make a table with one row for each first place winner containing the winner’s name,\n",
    "the season they won, and a column containing ‘Yes’ or ‘No’ depending on whether they\n",
    "served as a guest judge or not."
   ]
  },
  {
   "cell_type": "code",
   "execution_count": 59,
   "id": "6bcf7fd7-5b7a-40b2-9235-4b767fb1afcd",
   "metadata": {
    "tags": []
   },
   "outputs": [],
   "source": [
    "chef_guest_judge = filtered_judges_trimmed[filtered_judges_trimmed['competedOnTC'] == 'Yes']\n",
    "chef_judge_list = []\n",
    "for i in range(1, len(chef_guest_judge['guestJudge'])):\n",
    "    if chef_guest_judge.iloc[i]['guestJudge'] not in chef_judge_list:\n",
    "        chef_judge_list.append(chef_guest_judge.iloc[i]['guestJudge'])"
   ]
  },
  {
   "cell_type": "code",
   "execution_count": 60,
   "id": "306af740-cc4c-4aa8-8020-6a1c24fe61e3",
   "metadata": {
    "tags": []
   },
   "outputs": [
    {
     "name": "stdout",
     "output_type": "stream",
     "text": [
      "Retrieved 20 records\n"
     ]
    }
   ],
   "source": [
    "chef_info = df_select(\"\"\"SELECT season, seasonNumber, name\n",
    "    FROM (select placement, name, season, seasonNumber from chefdetails where placement = 1) as subquery\n",
    "    where season not like '%Canada%' and season not like '%Master%';\"\"\", engine)"
   ]
  },
  {
   "cell_type": "code",
   "execution_count": 61,
   "id": "4bb985c7-0a52-42d1-a95a-15196f2cb061",
   "metadata": {
    "tags": []
   },
   "outputs": [
    {
     "data": {
      "text/html": [
       "<div>\n",
       "<style scoped>\n",
       "    .dataframe tbody tr th:only-of-type {\n",
       "        vertical-align: middle;\n",
       "    }\n",
       "\n",
       "    .dataframe tbody tr th {\n",
       "        vertical-align: top;\n",
       "    }\n",
       "\n",
       "    .dataframe thead th {\n",
       "        text-align: right;\n",
       "    }\n",
       "</style>\n",
       "<table border=\"1\" class=\"dataframe\">\n",
       "  <thead>\n",
       "    <tr style=\"text-align: right;\">\n",
       "      <th></th>\n",
       "      <th>season</th>\n",
       "      <th>seasonNumber</th>\n",
       "      <th>name</th>\n",
       "      <th>guest_judge?</th>\n",
       "    </tr>\n",
       "  </thead>\n",
       "  <tbody>\n",
       "    <tr>\n",
       "      <th>0</th>\n",
       "      <td>All Stars: New York</td>\n",
       "      <td>8</td>\n",
       "      <td>Richard Blais</td>\n",
       "      <td>Yes</td>\n",
       "    </tr>\n",
       "    <tr>\n",
       "      <th>1</th>\n",
       "      <td>All-Stars L.A.</td>\n",
       "      <td>17</td>\n",
       "      <td>Melissa King</td>\n",
       "      <td>Yes</td>\n",
       "    </tr>\n",
       "    <tr>\n",
       "      <th>2</th>\n",
       "      <td>Boston</td>\n",
       "      <td>12</td>\n",
       "      <td>Mei Lin</td>\n",
       "      <td>No</td>\n",
       "    </tr>\n",
       "    <tr>\n",
       "      <th>3</th>\n",
       "      <td>California</td>\n",
       "      <td>13</td>\n",
       "      <td>Jeremy Ford</td>\n",
       "      <td>No</td>\n",
       "    </tr>\n",
       "    <tr>\n",
       "      <th>4</th>\n",
       "      <td>Charleston</td>\n",
       "      <td>14</td>\n",
       "      <td>Brooke Williamson</td>\n",
       "      <td>Yes</td>\n",
       "    </tr>\n",
       "    <tr>\n",
       "      <th>5</th>\n",
       "      <td>Chicago</td>\n",
       "      <td>4</td>\n",
       "      <td>Stephanie Izard</td>\n",
       "      <td>Yes</td>\n",
       "    </tr>\n",
       "    <tr>\n",
       "      <th>6</th>\n",
       "      <td>D.C.</td>\n",
       "      <td>7</td>\n",
       "      <td>Kevin Sbraga</td>\n",
       "      <td>No</td>\n",
       "    </tr>\n",
       "    <tr>\n",
       "      <th>7</th>\n",
       "      <td>Colorado</td>\n",
       "      <td>15</td>\n",
       "      <td>Joseph Flamm</td>\n",
       "      <td>No</td>\n",
       "    </tr>\n",
       "    <tr>\n",
       "      <th>8</th>\n",
       "      <td>Houston</td>\n",
       "      <td>19</td>\n",
       "      <td>Kah-wai Lo</td>\n",
       "      <td>No</td>\n",
       "    </tr>\n",
       "    <tr>\n",
       "      <th>9</th>\n",
       "      <td>Kentucky</td>\n",
       "      <td>16</td>\n",
       "      <td>Kelsey Barnard Clark</td>\n",
       "      <td>Yes</td>\n",
       "    </tr>\n",
       "    <tr>\n",
       "      <th>10</th>\n",
       "      <td>Las Vegas</td>\n",
       "      <td>6</td>\n",
       "      <td>Michael Voltaggio</td>\n",
       "      <td>Yes</td>\n",
       "    </tr>\n",
       "    <tr>\n",
       "      <th>11</th>\n",
       "      <td>Los Angeles</td>\n",
       "      <td>2</td>\n",
       "      <td>Ilan Hall</td>\n",
       "      <td>Yes</td>\n",
       "    </tr>\n",
       "    <tr>\n",
       "      <th>12</th>\n",
       "      <td>Miami</td>\n",
       "      <td>3</td>\n",
       "      <td>Hung Huynh</td>\n",
       "      <td>Yes</td>\n",
       "    </tr>\n",
       "    <tr>\n",
       "      <th>13</th>\n",
       "      <td>New Orleans</td>\n",
       "      <td>11</td>\n",
       "      <td>Nicholas Elmi</td>\n",
       "      <td>No</td>\n",
       "    </tr>\n",
       "    <tr>\n",
       "      <th>14</th>\n",
       "      <td>New York</td>\n",
       "      <td>5</td>\n",
       "      <td>Hosea Rosenberg</td>\n",
       "      <td>Yes</td>\n",
       "    </tr>\n",
       "    <tr>\n",
       "      <th>15</th>\n",
       "      <td>Portland</td>\n",
       "      <td>18</td>\n",
       "      <td>Gabe Erales</td>\n",
       "      <td>No</td>\n",
       "    </tr>\n",
       "    <tr>\n",
       "      <th>16</th>\n",
       "      <td>San Francisco</td>\n",
       "      <td>1</td>\n",
       "      <td>Harold Dieterle</td>\n",
       "      <td>Yes</td>\n",
       "    </tr>\n",
       "    <tr>\n",
       "      <th>17</th>\n",
       "      <td>Seattle</td>\n",
       "      <td>10</td>\n",
       "      <td>Kristen Kish</td>\n",
       "      <td>Yes</td>\n",
       "    </tr>\n",
       "    <tr>\n",
       "      <th>18</th>\n",
       "      <td>Texas</td>\n",
       "      <td>9</td>\n",
       "      <td>Paul Qui</td>\n",
       "      <td>No</td>\n",
       "    </tr>\n",
       "    <tr>\n",
       "      <th>19</th>\n",
       "      <td>World All Stars</td>\n",
       "      <td>20</td>\n",
       "      <td>Kah-wai Lo</td>\n",
       "      <td>No</td>\n",
       "    </tr>\n",
       "  </tbody>\n",
       "</table>\n",
       "</div>"
      ],
      "text/plain": [
       "                 season  seasonNumber                  name guest_judge?\n",
       "0   All Stars: New York             8         Richard Blais          Yes\n",
       "1        All-Stars L.A.            17          Melissa King          Yes\n",
       "2                Boston            12               Mei Lin           No\n",
       "3            California            13           Jeremy Ford           No\n",
       "4            Charleston            14     Brooke Williamson          Yes\n",
       "5               Chicago             4       Stephanie Izard          Yes\n",
       "6                  D.C.             7          Kevin Sbraga           No\n",
       "7              Colorado            15          Joseph Flamm           No\n",
       "8               Houston            19            Kah-wai Lo           No\n",
       "9              Kentucky            16  Kelsey Barnard Clark          Yes\n",
       "10            Las Vegas             6     Michael Voltaggio          Yes\n",
       "11          Los Angeles             2             Ilan Hall          Yes\n",
       "12                Miami             3            Hung Huynh          Yes\n",
       "13          New Orleans            11         Nicholas Elmi           No\n",
       "14             New York             5       Hosea Rosenberg          Yes\n",
       "15             Portland            18           Gabe Erales           No\n",
       "16        San Francisco             1       Harold Dieterle          Yes\n",
       "17              Seattle            10          Kristen Kish          Yes\n",
       "18                Texas             9              Paul Qui           No\n",
       "19      World All Stars            20            Kah-wai Lo           No"
      ]
     },
     "execution_count": 61,
     "metadata": {},
     "output_type": "execute_result"
    }
   ],
   "source": [
    "chef_info['guest_judge?'] = chef_info['name'].apply(lambda x: 'Yes' if x in chef_judge_list else 'No')\n",
    "chef_info"
   ]
  },
  {
   "cell_type": "markdown",
   "id": "8590eb43-b06c-484d-8111-57623b9d6ec4",
   "metadata": {
    "tags": []
   },
   "source": [
    "6. Find all contestants who were not first place winners but did serve as a guest judge at\n",
    "some point. Make sure to only list each name once.\n"
   ]
  },
  {
   "cell_type": "code",
   "execution_count": 85,
   "id": "98d7e8f5-25b1-4bda-af97-d957923ee853",
   "metadata": {
    "tags": []
   },
   "outputs": [
    {
     "name": "stdout",
     "output_type": "stream",
     "text": [
      "Retrieved 32 records\n"
     ]
    },
    {
     "data": {
      "text/html": [
       "<div>\n",
       "<style scoped>\n",
       "    .dataframe tbody tr th:only-of-type {\n",
       "        vertical-align: middle;\n",
       "    }\n",
       "\n",
       "    .dataframe tbody tr th {\n",
       "        vertical-align: top;\n",
       "    }\n",
       "\n",
       "    .dataframe thead th {\n",
       "        text-align: right;\n",
       "    }\n",
       "</style>\n",
       "<table border=\"1\" class=\"dataframe\">\n",
       "  <thead>\n",
       "    <tr style=\"text-align: right;\">\n",
       "      <th></th>\n",
       "      <th>season</th>\n",
       "      <th>seasonNumber</th>\n",
       "      <th>name</th>\n",
       "    </tr>\n",
       "  </thead>\n",
       "  <tbody>\n",
       "    <tr>\n",
       "      <th>0</th>\n",
       "      <td>Seattle</td>\n",
       "      <td>10</td>\n",
       "      <td>Brooke Williamson</td>\n",
       "    </tr>\n",
       "    <tr>\n",
       "      <th>1</th>\n",
       "      <td>Chicago</td>\n",
       "      <td>4</td>\n",
       "      <td>Richard Blais</td>\n",
       "    </tr>\n",
       "    <tr>\n",
       "      <th>2</th>\n",
       "      <td>Chicago</td>\n",
       "      <td>4</td>\n",
       "      <td>Antonia Lofaso</td>\n",
       "    </tr>\n",
       "    <tr>\n",
       "      <th>3</th>\n",
       "      <td>New Orleans</td>\n",
       "      <td>11</td>\n",
       "      <td>Carlos Gaytan</td>\n",
       "    </tr>\n",
       "    <tr>\n",
       "      <th>4</th>\n",
       "      <td>World All Stars</td>\n",
       "      <td>20</td>\n",
       "      <td>Nicole Gomes</td>\n",
       "    </tr>\n",
       "    <tr>\n",
       "      <th>5</th>\n",
       "      <td>Los Angeles</td>\n",
       "      <td>2</td>\n",
       "      <td>Sam Talbot</td>\n",
       "    </tr>\n",
       "    <tr>\n",
       "      <th>6</th>\n",
       "      <td>Las Vegas</td>\n",
       "      <td>6</td>\n",
       "      <td>Bryan Voltaggio</td>\n",
       "    </tr>\n",
       "    <tr>\n",
       "      <th>7</th>\n",
       "      <td>Las Vegas</td>\n",
       "      <td>6</td>\n",
       "      <td>Mike Isabella</td>\n",
       "    </tr>\n",
       "    <tr>\n",
       "      <th>8</th>\n",
       "      <td>Chicago</td>\n",
       "      <td>4</td>\n",
       "      <td>Spike Mendelsohn</td>\n",
       "    </tr>\n",
       "    <tr>\n",
       "      <th>9</th>\n",
       "      <td>World All Stars</td>\n",
       "      <td>20</td>\n",
       "      <td>Dawn Burrell</td>\n",
       "    </tr>\n",
       "    <tr>\n",
       "      <th>10</th>\n",
       "      <td>Boston</td>\n",
       "      <td>12</td>\n",
       "      <td>Melissa King</td>\n",
       "    </tr>\n",
       "    <tr>\n",
       "      <th>11</th>\n",
       "      <td>Kentucky</td>\n",
       "      <td>16</td>\n",
       "      <td>Nini Nguyen</td>\n",
       "    </tr>\n",
       "    <tr>\n",
       "      <th>12</th>\n",
       "      <td>D.C.</td>\n",
       "      <td>7</td>\n",
       "      <td>Tiffany Derry</td>\n",
       "    </tr>\n",
       "    <tr>\n",
       "      <th>13</th>\n",
       "      <td>California</td>\n",
       "      <td>13</td>\n",
       "      <td>Kwame Onwuachi</td>\n",
       "    </tr>\n",
       "    <tr>\n",
       "      <th>14</th>\n",
       "      <td>Texas</td>\n",
       "      <td>9</td>\n",
       "      <td>Nyesha Arrington</td>\n",
       "    </tr>\n",
       "    <tr>\n",
       "      <th>15</th>\n",
       "      <td>Portland</td>\n",
       "      <td>18</td>\n",
       "      <td>Shota Nakajima</td>\n",
       "    </tr>\n",
       "    <tr>\n",
       "      <th>16</th>\n",
       "      <td>Colorado</td>\n",
       "      <td>15</td>\n",
       "      <td>Adrienne Cheatham</td>\n",
       "    </tr>\n",
       "    <tr>\n",
       "      <th>17</th>\n",
       "      <td>Seattle</td>\n",
       "      <td>10</td>\n",
       "      <td>Sheldon Simeon</td>\n",
       "    </tr>\n",
       "    <tr>\n",
       "      <th>18</th>\n",
       "      <td>California</td>\n",
       "      <td>13</td>\n",
       "      <td>Karen Akunowicz</td>\n",
       "    </tr>\n",
       "    <tr>\n",
       "      <th>19</th>\n",
       "      <td>New Orleans</td>\n",
       "      <td>11</td>\n",
       "      <td>Nina Compton</td>\n",
       "    </tr>\n",
       "    <tr>\n",
       "      <th>20</th>\n",
       "      <td>Texas</td>\n",
       "      <td>9</td>\n",
       "      <td>Edward Lee</td>\n",
       "    </tr>\n",
       "    <tr>\n",
       "      <th>21</th>\n",
       "      <td>Los Angeles</td>\n",
       "      <td>2</td>\n",
       "      <td>Betty Fraser</td>\n",
       "    </tr>\n",
       "    <tr>\n",
       "      <th>22</th>\n",
       "      <td>Los Angeles</td>\n",
       "      <td>2</td>\n",
       "      <td>Michael Midgley</td>\n",
       "    </tr>\n",
       "    <tr>\n",
       "      <th>23</th>\n",
       "      <td>World All Stars</td>\n",
       "      <td>20</td>\n",
       "      <td>Amar Santana</td>\n",
       "    </tr>\n",
       "    <tr>\n",
       "      <th>24</th>\n",
       "      <td>Colorado</td>\n",
       "      <td>15</td>\n",
       "      <td>Carrie Baird</td>\n",
       "    </tr>\n",
       "    <tr>\n",
       "      <th>25</th>\n",
       "      <td>Chicago</td>\n",
       "      <td>4</td>\n",
       "      <td>Dale Talde</td>\n",
       "    </tr>\n",
       "    <tr>\n",
       "      <th>26</th>\n",
       "      <td>Boston</td>\n",
       "      <td>12</td>\n",
       "      <td>Gregory Gourdet</td>\n",
       "    </tr>\n",
       "    <tr>\n",
       "      <th>27</th>\n",
       "      <td>San Francisco</td>\n",
       "      <td>1</td>\n",
       "      <td>Lee Anne Wong</td>\n",
       "    </tr>\n",
       "    <tr>\n",
       "      <th>28</th>\n",
       "      <td>San Francisco</td>\n",
       "      <td>1</td>\n",
       "      <td>Miguel Morales</td>\n",
       "    </tr>\n",
       "    <tr>\n",
       "      <th>29</th>\n",
       "      <td>San Francisco</td>\n",
       "      <td>1</td>\n",
       "      <td>Stephen Asprinio</td>\n",
       "    </tr>\n",
       "    <tr>\n",
       "      <th>30</th>\n",
       "      <td>Seattle</td>\n",
       "      <td>10</td>\n",
       "      <td>Josie Smith-Malave</td>\n",
       "    </tr>\n",
       "    <tr>\n",
       "      <th>31</th>\n",
       "      <td>Seattle</td>\n",
       "      <td>10</td>\n",
       "      <td>Stefan Richter</td>\n",
       "    </tr>\n",
       "  </tbody>\n",
       "</table>\n",
       "</div>"
      ],
      "text/plain": [
       "             season  seasonNumber                name\n",
       "0           Seattle            10   Brooke Williamson\n",
       "1           Chicago             4       Richard Blais\n",
       "2           Chicago             4      Antonia Lofaso\n",
       "3       New Orleans            11       Carlos Gaytan\n",
       "4   World All Stars            20        Nicole Gomes\n",
       "5       Los Angeles             2          Sam Talbot\n",
       "6         Las Vegas             6     Bryan Voltaggio\n",
       "7         Las Vegas             6       Mike Isabella\n",
       "8           Chicago             4    Spike Mendelsohn\n",
       "9   World All Stars            20        Dawn Burrell\n",
       "10           Boston            12        Melissa King\n",
       "11         Kentucky            16         Nini Nguyen\n",
       "12             D.C.             7       Tiffany Derry\n",
       "13       California            13      Kwame Onwuachi\n",
       "14            Texas             9    Nyesha Arrington\n",
       "15         Portland            18      Shota Nakajima\n",
       "16         Colorado            15   Adrienne Cheatham\n",
       "17          Seattle            10      Sheldon Simeon\n",
       "18       California            13     Karen Akunowicz\n",
       "19      New Orleans            11        Nina Compton\n",
       "20            Texas             9          Edward Lee\n",
       "21      Los Angeles             2        Betty Fraser\n",
       "22      Los Angeles             2     Michael Midgley\n",
       "23  World All Stars            20        Amar Santana\n",
       "24         Colorado            15        Carrie Baird\n",
       "25          Chicago             4          Dale Talde\n",
       "26           Boston            12     Gregory Gourdet\n",
       "27    San Francisco             1       Lee Anne Wong\n",
       "28    San Francisco             1      Miguel Morales\n",
       "29    San Francisco             1    Stephen Asprinio\n",
       "30          Seattle            10  Josie Smith-Malave\n",
       "31          Seattle            10      Stefan Richter"
      ]
     },
     "execution_count": 85,
     "metadata": {},
     "output_type": "execute_result"
    }
   ],
   "source": [
    "chef_not_win = df_select(\"\"\"SELECT subquery.season, subquery.seasonNumber, subquery.name\n",
    "    FROM (select distinct name, placement, season, seasonNumber from chefdetails where placement != 1) as subquery\n",
    "    inner join judges on subquery.name = judges.guestJudge\n",
    "    where subquery.season not like '%Canada%' and subquery.season not like '%Master%'group by subquery.name;\"\"\", engine)\n",
    "chef_not_win"
   ]
  },
  {
   "cell_type": "code",
   "execution_count": null,
   "id": "d466b599-6fe6-4512-951f-4e20fee94eee",
   "metadata": {},
   "outputs": [],
   "source": []
  }
 ],
 "metadata": {
  "kernelspec": {
   "display_name": "Python 3 (ipykernel)",
   "language": "python",
   "name": "python3"
  },
  "language_info": {
   "codemirror_mode": {
    "name": "ipython",
    "version": 3
   },
   "file_extension": ".py",
   "mimetype": "text/x-python",
   "name": "python",
   "nbconvert_exporter": "python",
   "pygments_lexer": "ipython3",
   "version": "3.11.4"
  }
 },
 "nbformat": 4,
 "nbformat_minor": 5
}
