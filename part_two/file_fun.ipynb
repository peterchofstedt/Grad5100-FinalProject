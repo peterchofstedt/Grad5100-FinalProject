{
 "cells": [
  {
   "cell_type": "markdown",
   "id": "2b156a39-261b-4dc9-940f-ad76c726967e",
   "metadata": {},
   "source": [
    "1. Write a function that takes a string of this form, extracts the alphabetic code nnnnn and\n",
    "the extension and returns a string of the form nnnnn.extension. So, for example, given\n",
    "‘35538_YLTRR_csv’ it returns ‘YLTRR.csv’"
   ]
  },
  {
   "cell_type": "code",
   "execution_count": 78,
   "id": "0f02ac8e-887e-4207-b93a-4057f015288f",
   "metadata": {
    "tags": []
   },
   "outputs": [],
   "source": [
    "def get_extension(code):\n",
    "    code = code.replace('\\n', '').split('_')\n",
    "    extension = code[1] + '.' +code[2]\n",
    "    return extension"
   ]
  },
  {
   "cell_type": "markdown",
   "id": "52463a1d-bb5a-4662-8d80-c68ecbdbfd0b",
   "metadata": {},
   "source": [
    "2. Using your function, write code that reads in the entries from codes.txt and for each\n",
    "code writes the 5 digit number xxxxx into a file named nnnnn.extension constructed by\n",
    "your function in part 1. All of these files should be contained in a subdirectory of your\n",
    "main project directory called ‘expanded’. So for example, you would create a file called\n",
    "expanded/YLTRR.csv containing (just) 35538."
   ]
  },
  {
   "cell_type": "code",
   "execution_count": 77,
   "id": "913acc86-5187-4e36-8669-4fe4d3b8bdaa",
   "metadata": {
    "tags": []
   },
   "outputs": [],
   "source": [
    "def make_file(code):\n",
    "    name = get_extension(code)\n",
    "    with open(name,\"w\") as f:\n",
    "        f.write(code[0])"
   ]
  }
 ],
 "metadata": {
  "kernelspec": {
   "display_name": "Python 3 (ipykernel)",
   "language": "python",
   "name": "python3"
  },
  "language_info": {
   "codemirror_mode": {
    "name": "ipython",
    "version": 3
   },
   "file_extension": ".py",
   "mimetype": "text/x-python",
   "name": "python",
   "nbconvert_exporter": "python",
   "pygments_lexer": "ipython3",
   "version": "3.11.4"
  }
 },
 "nbformat": 4,
 "nbformat_minor": 5
}
