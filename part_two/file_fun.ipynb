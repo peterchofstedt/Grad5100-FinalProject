{
 "cells": [
  {
   "cell_type": "markdown",
   "id": "2b156a39-261b-4dc9-940f-ad76c726967e",
   "metadata": {},
   "source": [
    "1. Write a function that takes a string of this form, extracts the alphabetic code nnnnn and\n",
    "the extension and returns a string of the form nnnnn.extension. So, for example, given\n",
    "‘35538_YLTRR_csv’ it returns ‘YLTRR.csv’"
   ]
  },
  {
   "cell_type": "code",
   "execution_count": 5,
   "id": "0f02ac8e-887e-4207-b93a-4057f015288f",
   "metadata": {
    "tags": []
   },
   "outputs": [],
   "source": [
    "def get_extension(code):\n",
    "    code_split = code.replace('\\n', '').split('_')\n",
    "    extension = code_split[1] + '.' +code_split[2]\n",
    "    return extension, code_split"
   ]
  },
  {
   "cell_type": "markdown",
   "id": "52463a1d-bb5a-4662-8d80-c68ecbdbfd0b",
   "metadata": {},
   "source": [
    "2. Using your function, write code that reads in the entries from codes.txt and for each\n",
    "code writes the 5 digit number xxxxx into a file named nnnnn.extension constructed by\n",
    "your function in part 1. All of these files should be contained in a subdirectory of your\n",
    "main project directory called ‘expanded’. So for example, you would create a file called\n",
    "expanded/YLTRR.csv containing (just) 35538."
   ]
  },
  {
   "cell_type": "code",
   "execution_count": 6,
   "id": "913acc86-5187-4e36-8669-4fe4d3b8bdaa",
   "metadata": {
    "tags": []
   },
   "outputs": [],
   "source": [
    "def make_file(code):\n",
    "    name, code_split = get_extension(code)\n",
    "    with open('test/'+name,\"w\") as f:\n",
    "        f.write(code_split[0])"
   ]
  },
  {
   "cell_type": "code",
   "execution_count": 7,
   "id": "c11449c2-57e8-479f-b042-6fc75fc17af4",
   "metadata": {
    "tags": []
   },
   "outputs": [],
   "source": [
    "with open(\"codes.txt\",\"r\") as f:\n",
    "    codes = f.readlines()"
   ]
  },
  {
   "cell_type": "code",
   "execution_count": 8,
   "id": "d3268e98-0814-4417-b746-b5157f69327d",
   "metadata": {
    "tags": []
   },
   "outputs": [],
   "source": [
    "for code in codes:\n",
    "    make_file(code)"
   ]
  },
  {
   "cell_type": "code",
   "execution_count": null,
   "id": "754fbe4b-e476-40b8-9039-d879d9fe35e8",
   "metadata": {},
   "outputs": [],
   "source": []
  }
 ],
 "metadata": {
  "kernelspec": {
   "display_name": "Python 3 (ipykernel)",
   "language": "python",
   "name": "python3"
  },
  "language_info": {
   "codemirror_mode": {
    "name": "ipython",
    "version": 3
   },
   "file_extension": ".py",
   "mimetype": "text/x-python",
   "name": "python",
   "nbconvert_exporter": "python",
   "pygments_lexer": "ipython3",
   "version": "3.11.4"
  }
 },
 "nbformat": 4,
 "nbformat_minor": 5
}
